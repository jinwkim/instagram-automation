{
 "cells": [
  {
   "cell_type": "code",
   "execution_count": null,
   "metadata": {},
   "outputs": [],
   "source": [
    "from selenium import webdriver\n",
    "from selenium.webdriver.common.keys import Keys\n",
    "from time import sleep, strftime\n",
    "from random import randint\n",
    "import pandas as pd"
   ]
  },
  {
   "cell_type": "code",
   "execution_count": null,
   "metadata": {},
   "outputs": [],
   "source": [
    "# Use WebDriver to open a Chrome tab and navigate to Instagram login page\n",
    "chromedriver_path = \"/Users/jinwkim/Downloads/chromedriver\"\n",
    "webdriver = webdriver.Chrome(executable_path = chromedriver_path)\n",
    "webdriver.get(\"https://www.instagram.com/accounts/login\")\n",
    "sleep(1)"
   ]
  },
  {
   "cell_type": "code",
   "execution_count": null,
   "metadata": {},
   "outputs": [],
   "source": [
    "# Enter username/password to log in\n",
    "un, pw = \"\",\"\"\n",
    "username = webdriver.find_element_by_name(\"username\")\n",
    "username.send_keys(un)\n",
    "password = webdriver.find_element_by_name(\"password\")\n",
    "password.send_keys(pw)\n",
    "sleep(1)\n",
    "\n",
    "# Click login button\n",
    "button_login = webdriver.find_element_by_css_selector(\"#react-root > section > main > div > article > div > div:nth-child(1) > div > form > div:nth-child(4) > button\")\n",
    "button_login.click()\n",
    "sleep(3)"
   ]
  },
  {
   "cell_type": "code",
   "execution_count": null,
   "metadata": {},
   "outputs": [],
   "source": [
    "# Click \"Not Now\" on \"Save Your Login Info?\" popup\n",
    "not_now = webdriver.find_element_by_css_selector(\"#react-root > section > main > div > div > div > div > button\")\n",
    "not_now.click()\n",
    "sleep(randint(1,2))\n",
    "\n",
    "# Click \"Not Now\" on popup \"Turn on Notifications\"\n",
    "not_now = webdriver.find_element_by_css_selector(\"body > div.RnEpo.Yx5HN > div > div > div > div.mt3GC > button.aOOlW.HoLwm\")\n",
    "not_now.click()\n",
    "sleep(randint(1,2))"
   ]
  },
  {
   "cell_type": "code",
   "execution_count": null,
   "metadata": {},
   "outputs": [],
   "source": [
    "# Initialize variables to keep track of\n",
    "# already_following = [] # need to track who we're following already \n",
    "already_following = pd.read_csv(\"users_followed_list.csv\", delimiter=\",\").iloc[:,1]\n",
    "already_following = set(list(already_following)) # use set to get O(1) search if needed\n",
    "\n",
    "new_followed = []\n",
    "followed, likes, comments = 0, 0, 0"
   ]
  },
  {
   "cell_type": "code",
   "execution_count": null,
   "metadata": {},
   "outputs": [],
   "source": [
    "# Specify which hashtags you want to explore\n",
    "hashtag_list = [\"Food\",\"FoodPorn\",\"InstaFood\"]\n",
    "# hashtag_list = [\"Dinner\",\"Lunch\",\"BestFoodBoston\"]\n",
    "# hashtag_list = [\"Foodstagram\",\"FoodPhotography\",\"BuzzFeedFood\"]"
   ]
  },
  {
   "cell_type": "code",
   "execution_count": null,
   "metadata": {},
   "outputs": [],
   "source": [
    "# Iterate through the hashtags stored in \"hashtag_list\"\n",
    "for hashtag in hashtag_list:\n",
    "    \n",
    "    # Navigate to Instagram \"explore/tags\" page for current hashtag\n",
    "    webdriver.get(\"https://www.instagram.com/explore/tags/\"+hashtag+\"/\")\n",
    "    sleep(randint(1,2))\n",
    "    \n",
    "    # Click on the first thumbnail in the current hashtag's explore page\n",
    "    first_thumbnail = webdriver.find_element_by_css_selector(\"#react-root > section > main > article > div.EZdmt > div > div > div:nth-child(1) > div:nth-child(1) > a > div > div._9AhH0\")\n",
    "    first_thumbnail.click()\n",
    "    sleep(randint(1,2))\n",
    "    \n",
    "    try:\n",
    "        # Iterate through first 10 pictures in the current hashtag\n",
    "        for _ in range(3):\n",
    "            \n",
    "            # Capture the username of the user who posted\n",
    "            username = webdriver.find_element_by_css_selector(\"body > div._2dDPU.CkGkG > div.zZYga > div > article > header > div.o-MQd.z8cbW > div.PQo_0.RqtMr > div.e1e1d > a\").text\n",
    "\n",
    "            # If we are not currently following the user, click \"Follow\" => click only if button says \"Follow\"\n",
    "            follow = webdriver.find_element_by_css_selector(\"body > div._2dDPU.CkGkG > div.zZYga > div > article > header > div.o-MQd.z8cbW > div.PQo_0.RqtMr > div.bY2yH > button\")\n",
    "            if follow.text == \"Follow\" and username.lower() != \"eatlikeabos\":\n",
    "\n",
    "                # Click follow\n",
    "                follow.click()\n",
    "                sleep(randint(1,3))\n",
    "                # Increment \"followed\" counter, add username to new_followed list\n",
    "                new_followed.append(username)\n",
    "                followed += 1\n",
    "\n",
    "                # Click like\n",
    "                like = webdriver.find_element_by_css_selector(\"body > div._2dDPU.CkGkG > div.zZYga > div > article > div.eo2As > section.ltpMr.Slqrh > span.fr66n > button > svg\")\n",
    "                like.click()\n",
    "                sleep(randint(1,3))\n",
    "                # Increment \"likes\" counter\n",
    "                likes += 1\n",
    "\n",
    "                # Post a comment\n",
    "                # Click into the textarea of comments section\n",
    "                comment = webdriver.find_element_by_css_selector(\"body > div._2dDPU.CkGkG > div.zZYga > div > article > div.eo2As > section.sH9wk._JgwE > div > form > textarea\")\n",
    "                comment.click()\n",
    "                sleep(randint(2,4))\n",
    "                # Use \"randint\" to post different comments\n",
    "                rand_comment = randint(1,5)\n",
    "                comment = webdriver.find_element_by_css_selector(\"body > div._2dDPU.CkGkG > div.zZYga > div > article > div.eo2As > section.sH9wk._JgwE > div > form > textarea\")\n",
    "                if rand_comment == 1:\n",
    "                    comment.send_keys(\"Awesome shot!\")\n",
    "                elif rand_comment == 2:\n",
    "                    comment.send_keys(\"Looks delicious! Yum\")\n",
    "                elif rand_comment == 3:\n",
    "                    comment.send_keys(\"Wow! This looks amazing!\")\n",
    "                elif rand_comment == 4:\n",
    "                    comment.send_keys(\"That looks so tasty!\")\n",
    "                else:\n",
    "                    comment.send_keys(\"This looks so delicious! Great shot!\")\n",
    "                sleep(randint(3,5)) # some extra time to edit comment\n",
    "                # Click enter to post comment\n",
    "                comment.send_keys(Keys.ENTER)\n",
    "                sleep(randint(2,4))\n",
    "                # Increment \"comments\" counter\n",
    "                comments += 1\n",
    "                \n",
    "            # Click \"next\" to go to next picture within the same hashtag\n",
    "            next = webdriver.find_element_by_css_selector(\"body > div._2dDPU.CkGkG > div.EfHg9 > div > div > a._65Bje.coreSpriteRightPaginationArrow\")\n",
    "            next.click()\n",
    "            sleep(randint(2,5))\n",
    "                \n",
    "    except Exception as ex:\n",
    "        \n",
    "        # Write out what type of Exception\n",
    "        template = \"An exception of type {0} occurred. Arguments:\\n{1!r}\"\n",
    "        message = template.format(type(ex).__name__, ex.args)\n",
    "        print(message)\n",
    "        \n",
    "        "
   ]
  },
  {
   "cell_type": "code",
   "execution_count": null,
   "metadata": {},
   "outputs": [],
   "source": [
    "# Merge the \"new_followed\" list to \"already_following\"\n",
    "already_following = list(already_following) # cast to list from set\n",
    "already_following.extend(new_followed)\n",
    "\n",
    "# Write out the CSV file of new users we are following\n",
    "updated_user_df = pd.DataFrame(already_following)\n",
    "updated_user_df.to_csv(\"users_followed_list.csv\")\n",
    "\n",
    "# Print out stats\n",
    "print(\"Liked {} images.\".format(likes))\n",
    "print(\"Commented on {} images.\".format(comments))\n",
    "print(\"Followed {} new people.\".format(followed))"
   ]
  },
  {
   "cell_type": "code",
   "execution_count": null,
   "metadata": {},
   "outputs": [],
   "source": [
    "\"\"\"\n",
    "creds to Fábio Neves\n",
    "https://towardsdatascience.com/increase-your-instagram-followers-with-a-simple-python-bot-fde048dce20d?gi=3e7519ab06bf\n",
    "\"\"\""
   ]
  }
 ],
 "metadata": {
  "kernelspec": {
   "display_name": "Python 3",
   "language": "python",
   "name": "python3"
  },
  "language_info": {
   "codemirror_mode": {
    "name": "ipython",
    "version": 3
   },
   "file_extension": ".py",
   "mimetype": "text/x-python",
   "name": "python",
   "nbconvert_exporter": "python",
   "pygments_lexer": "ipython3",
   "version": "3.7.4"
  }
 },
 "nbformat": 4,
 "nbformat_minor": 2
}
